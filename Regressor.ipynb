{
 "cells": [
  {
   "cell_type": "markdown",
   "metadata": {},
   "source": [
    "# Modelo de Regressão para Previsão do Valor de Compra"
   ]
  },
  {
   "cell_type": "markdown",
   "metadata": {},
   "source": [
    "### Bibliotecas Necessárias"
   ]
  },
  {
   "cell_type": "code",
   "execution_count": null,
   "metadata": {},
   "outputs": [],
   "source": [
    "import pandas as pd\n",
    "import matplotlib.pyplot as plt\n",
    "from sklearn.neighbors import KNeighborsRegressor\n",
    "from sklearn.ensemble import RandomForestRegressor\n",
    "from sklearn.model_selection import cross_val_score\n",
    "import math"
   ]
  },
  {
   "cell_type": "markdown",
   "metadata": {},
   "source": [
    "### Carregamento dos dados"
   ]
  },
  {
   "cell_type": "code",
   "execution_count": 3,
   "metadata": {},
   "outputs": [],
   "source": [
    "data_coupon1 = pd.read_csv('data/data_coupon1.csv', sep='|').set_index('Unnamed: 0')\n",
    "data_coupon2 = pd.read_csv('data/data_coupon2.csv', sep='|').set_index('Unnamed: 0')\n",
    "data_coupon3 = pd.read_csv('data/data_coupon3.csv', sep='|').set_index('Unnamed: 0')\n",
    "y = pd.read_csv('data/DMC_2015_orders_train.txt', sep='|')['basketValue']"
   ]
  },
  {
   "cell_type": "code",
   "execution_count": 9,
   "metadata": {},
   "outputs": [],
   "source": [
    "data = data_coupon1.merge(data_coupon2, on=['orderTime', 'couponsReceived'])\n",
    "data = data.merge(data_coupon3, on=['orderTime', 'couponsReceived'])\n",
    "\n",
    "X = data.copy()\n",
    "del X['coupon1Used']\n",
    "del X['coupon2Used']\n",
    "del X['coupon3Used']"
   ]
  },
  {
   "cell_type": "markdown",
   "metadata": {},
   "source": [
    "### Funções Auxiliares"
   ]
  },
  {
   "cell_type": "code",
   "execution_count": 52,
   "metadata": {},
   "outputs": [],
   "source": [
    "def makeScoresKnn(X, y, test_values):\n",
    "    accs = []\n",
    "    best_k = 1\n",
    "    maxi = 0.\n",
    "    for k in test_values:\n",
    "        knn = KNeighborsRegressor(n_neighbors=k, n_jobs=-1)\n",
    "        scores = cross_val_score(knn, X, y, cv=10)\n",
    "        acc = np.mean(scores)\n",
    "        if(math.fabs(acc) > maxi):\n",
    "            maxi = acc\n",
    "            best_k = k\n",
    "        accs.append(acc)\n",
    "    return accs, maxi, best_k"
   ]
  },
  {
   "cell_type": "code",
   "execution_count": 53,
   "metadata": {},
   "outputs": [],
   "source": [
    "def plotScoreKnn(X, y, test_values):\n",
    "    accs, maxi, best_k = makeScoresKnn(X, y, test_values)\n",
    "    plt.plot(test_values, accs)\n",
    "    plt.xlabel('K')\n",
    "    plt.ylabel('Scores')\n",
    "    plt.title('Scores por valores de K')\n",
    "    plt.show()\n",
    "    print('Melhor score: '+ str(maxi))\n",
    "    print('Melhor k: '+ str(best_k))"
   ]
  },
  {
   "cell_type": "code",
   "execution_count": 58,
   "metadata": {},
   "outputs": [],
   "source": [
    "def makeScoresRf(X, y, test_values):\n",
    "    accs = []\n",
    "    best_k = 1\n",
    "    maxi = 0.\n",
    "    for k in test_values:\n",
    "        knn = RandomForestRegressor(n_estimators=k, n_jobs=-1)\n",
    "        scores = cross_val_score(knn, X, y, cv=10)\n",
    "        acc = np.mean(scores)\n",
    "        if(math.fabs(acc) > maxi):\n",
    "            maxi = acc\n",
    "            best_k = k\n",
    "        accs.append(acc)\n",
    "    return accs, maxi, best_k\n",
    "\n",
    "def plotScoreRf(X, y, test_values):\n",
    "    accs, maxi, best_k = makeScoresRf(X, y, test_values)\n",
    "    plt.plot(test_values, accs)\n",
    "    plt.xlabel('Árvores')\n",
    "    plt.ylabel('Scores')\n",
    "    plt.title('Scores por quantidade de árvore')\n",
    "    plt.show()\n",
    "    print('Melhor score: '+ str(maxi))\n",
    "    print('Melhor número de árvore: '+ str(best_k))"
   ]
  },
  {
   "cell_type": "markdown",
   "metadata": {},
   "source": [
    "### Experimentos"
   ]
  },
  {
   "cell_type": "code",
   "execution_count": 59,
   "metadata": {},
   "outputs": [
    {
     "data": {
      "image/png": "[encoded data removed]",
      "text/plain": [
       "<Figure size 432x288 with 1 Axes>"
      ]
     },
     "metadata": {},
     "output_type": "display_data"
    },
    {
     "name": "stdout",
     "output_type": "stream",
     "text": [
      "Melhor score: -12.06578527294402\n",
      "Melhor número de árvore: 555\n"
     ]
    }
   ],
   "source": [
    "plotScoreRf(X, y, range(5, 605, 50))"
   ]
  }
 ],
 "metadata": {
  "kernelspec": {
   "display_name": "Python 3",
   "language": "python",
   "name": "python3"
  },
  "language_info": {
   "codemirror_mode": {
    "name": "ipython",
    "version": 3
   },
   "file_extension": ".py",
   "mimetype": "text/x-python",
   "name": "python",
   "nbconvert_exporter": "python",
   "pygments_lexer": "ipython3",
   "version": "3.6.3"
  }
 },
 "nbformat": 4,
 "nbformat_minor": 2
}
