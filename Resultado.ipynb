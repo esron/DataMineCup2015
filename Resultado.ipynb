{
 "cells": [
  {
   "cell_type": "markdown",
   "metadata": {},
   "source": [
    "# Resultados\n",
    "\n",
    "Ajustamos os modelos definidos e calculamos a métrica da competição para facilitar a comparação com os modelos dos colegas de classe."
   ]
  },
  {
   "cell_type": "markdown",
   "metadata": {},
   "source": [
    "### Bibliotecas Necessárias"
   ]
  },
  {
   "cell_type": "code",
   "execution_count": 4,
   "metadata": {},
   "outputs": [],
   "source": [
    "import pandas as pd\n",
    "import matplotlib.pyplot as plt\n",
    "from sklearn.neighbors import KNeighborsRegressor\n",
    "from sklearn.neighbors import KNeighborsClassifier\n",
    "import math"
   ]
  },
  {
   "cell_type": "markdown",
   "metadata": {},
   "source": [
    "### Carregar os dados"
   ]
  },
  {
   "cell_type": "code",
   "execution_count": 5,
   "metadata": {},
   "outputs": [],
   "source": [
    "data_coupon1 = pd.read_csv('data/data_coupon1.csv', sep='|').set_index('Unnamed: 0')\n",
    "data_coupon2 = pd.read_csv('data/data_coupon2.csv', sep='|').set_index('Unnamed: 0')\n",
    "data_coupon3 = pd.read_csv('data/data_coupon3.csv', sep='|').set_index('Unnamed: 0')\n",
    "y_basket = pd.read_csv('data/DMC_2015_orders_train.txt', sep='|')['basketValue']"
   ]
  },
  {
   "cell_type": "code",
   "execution_count": 6,
   "metadata": {},
   "outputs": [],
   "source": [
    "data = data_coupon1.merge(data_coupon2, on=['orderTime', 'couponsReceived'])\n",
    "data = data.merge(data_coupon3, on=['orderTime', 'couponsReceived'])\n",
    "\n",
    "X = data.copy()\n",
    "del X['coupon1Used']\n",
    "del X['coupon2Used']\n",
    "del X['coupon3Used']"
   ]
  },
  {
   "cell_type": "code",
   "execution_count": 7,
   "metadata": {},
   "outputs": [],
   "source": [
    "y_coupon1 = data['coupon1Used']\n",
    "y_coupon2 = data['coupon2Used']\n",
    "y_coupon3 = data['coupon3Used']"
   ]
  },
  {
   "cell_type": "markdown",
   "metadata": {},
   "source": [
    "### Modelos Selecionados"
   ]
  },
  {
   "cell_type": "code",
   "execution_count": 8,
   "metadata": {},
   "outputs": [],
   "source": [
    "knnCoupon1 = KNeighborsClassifier(n_neighbors=35, n_jobs=-1)\n",
    "knnCoupon2 = KNeighborsClassifier(n_neighbors=51, n_jobs=-1)\n",
    "knnCoupon3 = KNeighborsClassifier(n_neighbors=41, n_jobs=-1)\n",
    "knnBasket = KNeighborsRegressor(n_neighbors=101, n_jobs=-1)"
   ]
  },
  {
   "cell_type": "code",
   "execution_count": 9,
   "metadata": {},
   "outputs": [
    {
     "data": {
      "text/plain": [
       "KNeighborsRegressor(algorithm='auto', leaf_size=30, metric='minkowski',\n",
       "          metric_params=None, n_jobs=-1, n_neighbors=101, p=2,\n",
       "          weights='uniform')"
      ]
     },
     "execution_count": 9,
     "metadata": {},
     "output_type": "execute_result"
    }
   ],
   "source": [
    "knnCoupon1.fit(X, y_coupon1)\n",
    "knnCoupon2.fit(X, y_coupon2)\n",
    "knnCoupon3.fit(X, y_coupon3)\n",
    "knnBasket.fit(X, y_basket)"
   ]
  },
  {
   "cell_type": "markdown",
   "metadata": {},
   "source": [
    "### Tratamento dos dados da competição"
   ]
  },
  {
   "cell_type": "code",
   "execution_count": 10,
   "metadata": {},
   "outputs": [],
   "source": [
    "data_class = pd.read_csv('data/DMC_2015_orders_class.txt', sep='|')"
   ]
  },
  {
   "cell_type": "code",
   "execution_count": 11,
   "metadata": {},
   "outputs": [],
   "source": [
    "del data_class['userID']\n",
    "del data_class['orderID']\n",
    "del data_class['couponID1']\n",
    "del data_class['couponID2']\n",
    "del data_class['couponID3']\n",
    "data_class['orderTime'] = pd.DatetimeIndex(data_class['orderTime']).astype('int')\n",
    "data_class['couponsReceived'] = pd.DatetimeIndex(data_class['couponsReceived']).astype('int')"
   ]
  },
  {
   "cell_type": "code",
   "execution_count": 12,
   "metadata": {},
   "outputs": [],
   "source": [
    "data_class_coupon1 = data_class.copy()\n",
    "data_class_coupon2 = data_class.copy()\n",
    "data_class_coupon3 = data_class.copy()"
   ]
  },
  {
   "cell_type": "code",
   "execution_count": 13,
   "metadata": {},
   "outputs": [],
   "source": [
    "data_class_coupon1 = data_class_coupon1.loc[:,[(x[-1] != '2' and x[-1] != '3') for x in data_class_coupon1.columns]].iloc[:,:-3]\n",
    "\n",
    "data_class_coupon2 = data_class_coupon2.loc[:,[(x[-1] != '1' and x[-1] != '3') for x in data_class_coupon2.columns]].iloc[:,:-2]\n",
    "del data_class_coupon2['coupon1Used']\n",
    "\n",
    "data_class_coupon3 = data_class_coupon3.loc[:,[(x[-1] != '1' and x[-1] != '2') for x in data_class_coupon3.columns]].iloc[:,:-1]\n",
    "del data_class_coupon3['coupon1Used']\n",
    "del data_class_coupon3['coupon2Used']"
   ]
  },
  {
   "cell_type": "code",
   "execution_count": 14,
   "metadata": {},
   "outputs": [],
   "source": [
    "data_class_coupon1 = pd.get_dummies(data_class_coupon1, columns=[\"brand1\", \"productGroup1\"])\n",
    "data_class_coupon2 = pd.get_dummies(data_class_coupon2, columns=[\"brand2\", \"productGroup2\"])\n",
    "data_class_coupon3 = pd.get_dummies(data_class_coupon3, columns=[\"brand3\", \"productGroup3\"])"
   ]
  },
  {
   "cell_type": "code",
   "execution_count": 15,
   "metadata": {},
   "outputs": [],
   "source": [
    "vetor1 = [d.split(',') for d in data_class_coupon1['categoryIDs1']]\n",
    "categoryIDs1 = set(x for l in vetor1 for x in l)\n",
    "vetor2 = [d.split(',') for d in data_class_coupon2['categoryIDs2']]\n",
    "categoryIDs2 = set(x for l in vetor2 for x in l)\n",
    "vetor3 = [d.split(',') for d in data_class_coupon3['categoryIDs3']]\n",
    "categoryIDs3 = set(x for l in vetor3 for x in l)"
   ]
  },
  {
   "cell_type": "code",
   "execution_count": 16,
   "metadata": {},
   "outputs": [],
   "source": [
    "d1 = dict()\n",
    "for c in categoryIDs1:\n",
    "    d1['categoryIDs1_'+c] = []\n",
    "for i in vetor1:\n",
    "    for c in categoryIDs1:\n",
    "        if c in i:\n",
    "            d1['categoryIDs1_'+c].append(1.0)\n",
    "        else:\n",
    "            d1['categoryIDs1_'+c].append(0)\n",
    "            \n",
    "d2 = dict()\n",
    "for c in categoryIDs2:\n",
    "    d2['categoryIDs2_'+c] = []\n",
    "for i in vetor2:\n",
    "    for c in categoryIDs2:\n",
    "        if c in i:\n",
    "            d2['categoryIDs2_'+c].append(1.0)\n",
    "        else:\n",
    "            d2['categoryIDs2_'+c].append(0)     \n",
    "            \n",
    "d3 = dict()\n",
    "for c in categoryIDs3:\n",
    "    d3['categoryIDs3_'+c] = []\n",
    "for i in vetor3:\n",
    "    for c in categoryIDs3:\n",
    "        if c in i:\n",
    "            d3['categoryIDs3_'+c].append(1.0)\n",
    "        else:\n",
    "            d3['categoryIDs3_'+c].append(0)     "
   ]
  },
  {
   "cell_type": "code",
   "execution_count": 17,
   "metadata": {},
   "outputs": [],
   "source": [
    "data_class_coupon1 = data_class_coupon1.join(pd.DataFrame(d1))\n",
    "del data_class_coupon1['categoryIDs1']\n",
    "data_class_coupon2 = data_class_coupon2.join(pd.DataFrame(d2))\n",
    "del data_class_coupon2['categoryIDs2']\n",
    "data_class_coupon3 = data_class_coupon3.join(pd.DataFrame(d3))\n",
    "del data_class_coupon3['categoryIDs3']"
   ]
  },
  {
   "cell_type": "code",
   "execution_count": 18,
   "metadata": {},
   "outputs": [],
   "source": [
    "data_class_coupon1.fillna(data_class_coupon1.mean())\n",
    "data_class_coupon2.fillna(data_class_coupon2.mean())\n",
    "data_class_coupon3.fillna(data_class_coupon3.mean())\n",
    "\n",
    "def normalize(df):\n",
    "    return (df - df.min())/(df.max() - df.min())\n",
    "\n",
    "data_class_coupon1 = normalize(data_class_coupon1)\n",
    "data_class_coupon2 = normalize(data_class_coupon2)\n",
    "data_class_coupon3 = normalize(data_class_coupon3)"
   ]
  },
  {
   "cell_type": "code",
   "execution_count": 19,
   "metadata": {},
   "outputs": [],
   "source": [
    "data_c_s = data_class_coupon1.merge(data_class_coupon2, on=['orderTime', 'couponsReceived'])\n",
    "data_c_s = data_c_s.merge(data_class_coupon3, on=['orderTime', 'couponsReceived'])\n",
    "\n",
    "X_class = data_c_s.copy()"
   ]
  },
  {
   "cell_type": "code",
   "execution_count": 20,
   "metadata": {
    "scrolled": true
   },
   "outputs": [],
   "source": [
    "del X_class['coupon1Used']\n",
    "del X_class['coupon2Used']\n",
    "del X_class['coupon3Used']\n"
   ]
  },
  {
   "cell_type": "code",
   "execution_count": 21,
   "metadata": {},
   "outputs": [],
   "source": [
    "col_to_delete = [c for c in X.columns if 'category' in c]\n",
    "for c in col_to_delete:\n",
    "    del X[c]"
   ]
  },
  {
   "cell_type": "code",
   "execution_count": 22,
   "metadata": {},
   "outputs": [],
   "source": [
    "col_to_delete = [c for c in X_class.columns if 'category' in c]\n",
    "for c in col_to_delete:\n",
    "    del X_class[c]"
   ]
  },
  {
   "cell_type": "markdown",
   "metadata": {},
   "source": [
    "### Treinamento dos modelos na base da competição"
   ]
  },
  {
   "cell_type": "code",
   "execution_count": 23,
   "metadata": {},
   "outputs": [
    {
     "data": {
      "text/plain": [
       "KNeighborsRegressor(algorithm='auto', leaf_size=30, metric='minkowski',\n",
       "          metric_params=None, n_jobs=-1, n_neighbors=101, p=2,\n",
       "          weights='uniform')"
      ]
     },
     "execution_count": 23,
     "metadata": {},
     "output_type": "execute_result"
    }
   ],
   "source": [
    "knnCoupon1.fit(X, y_coupon1)\n",
    "knnCoupon2.fit(X, y_coupon2)\n",
    "knnCoupon3.fit(X, y_coupon3)\n",
    "knnBasket.fit(X, y_basket)"
   ]
  },
  {
   "cell_type": "code",
   "execution_count": 24,
   "metadata": {},
   "outputs": [],
   "source": [
    "train_brands = [c for c in X.columns if 'brand' in c]\n",
    "class_brands = [c for c in X_class.columns if 'brand' in c]"
   ]
  },
  {
   "cell_type": "code",
   "execution_count": 25,
   "metadata": {},
   "outputs": [],
   "source": [
    "different_brands = [c for c in train_brands if c not in class_brands]"
   ]
  },
  {
   "cell_type": "code",
   "execution_count": 76,
   "metadata": {},
   "outputs": [],
   "source": [
    "for c in different_brands:\n",
    "    del X[c]"
   ]
  },
  {
   "cell_type": "code",
   "execution_count": 26,
   "metadata": {},
   "outputs": [],
   "source": [
    "different_brands = [c for c in class_brands if c not in train_brands]"
   ]
  },
  {
   "cell_type": "code",
   "execution_count": 78,
   "metadata": {},
   "outputs": [],
   "source": [
    "for c in different_brands:\n",
    "    del X_class[c]"
   ]
  },
  {
   "cell_type": "code",
   "execution_count": 30,
   "metadata": {},
   "outputs": [],
   "source": [
    "class_groups = [c for c in X_class.columns if 'Group' in c]"
   ]
  },
  {
   "cell_type": "code",
   "execution_count": 31,
   "metadata": {},
   "outputs": [],
   "source": [
    "train_groups = [c for c in X.columns if 'Group' in c]"
   ]
  },
  {
   "cell_type": "code",
   "execution_count": 32,
   "metadata": {},
   "outputs": [],
   "source": [
    "different_groups = [c for c in train_groups if c not in class_groups]"
   ]
  },
  {
   "cell_type": "code",
   "execution_count": 33,
   "metadata": {},
   "outputs": [],
   "source": [
    "different_groups = [c for c in class_groups if c not in train_groups]"
   ]
  },
  {
   "cell_type": "code",
   "execution_count": 93,
   "metadata": {},
   "outputs": [],
   "source": [
    "for g in different_groups:\n",
    "    del X[g]"
   ]
  },
  {
   "cell_type": "code",
   "execution_count": 95,
   "metadata": {},
   "outputs": [],
   "source": [
    "for g in different_groups:\n",
    "    del X_class[g]"
   ]
  },
  {
   "cell_type": "markdown",
   "metadata": {},
   "source": [
    "### Previsões e cálculo da métrica da competição"
   ]
  },
  {
   "cell_type": "code",
   "execution_count": 100,
   "metadata": {},
   "outputs": [],
   "source": [
    "predicted_coupon1 = knnCoupon1.predict(X_class)\n",
    "predicted_coupon2 = knnCoupon2.predict(X_class)\n",
    "predicted_coupon3 = knnCoupon3.predict(X_class)\n",
    "predicted_basket = knnBasket.predict(X_class)"
   ]
  },
  {
   "cell_type": "code",
   "execution_count": 105,
   "metadata": {},
   "outputs": [],
   "source": [
    "results = pd.read_csv('data/DMC_2015_realclass.txt', sep='|')"
   ]
  },
  {
   "cell_type": "code",
   "execution_count": 107,
   "metadata": {},
   "outputs": [],
   "source": [
    "def E(pre_c1, pre_c2, pre_c3, pre_basket, real_c1, real_c2, real_c3, real_basket):\n",
    "    c1 = []\n",
    "    c2 = []\n",
    "    c3 = []\n",
    "    basket = []\n",
    "    for i in range(0, len(pre_c1)):\n",
    "        c1.append(math.pow(math.fabs(real_c1[i]-pre_c1[i])/(sum(real_c1)/len(real_c1)), 2))\n",
    "        c2.append(math.pow(math.fabs(real_c2[i]-pre_c2[i])/(sum(real_c2)/len(real_c2)), 2))\n",
    "        c3.append(math.pow(math.fabs(real_c3[i]-pre_c3[i])/(sum(real_c3)/len(real_c3)), 2))\n",
    "        basket.append(math.pow(math.fabs(real_basket[i]-pre_basket[i])/(sum(real_basket)/len(real_basket)), 2))\n",
    "    return sum(c1+c2+c3+basket)"
   ]
  },
  {
   "cell_type": "code",
   "execution_count": 108,
   "metadata": {},
   "outputs": [
    {
     "data": {
      "text/plain": [
       "15136.2378092399"
      ]
     },
     "execution_count": 108,
     "metadata": {},
     "output_type": "execute_result"
    }
   ],
   "source": [
    "E(predicted_coupon1, predicted_coupon2, predicted_coupon3, predicted_basket, results['coupon1Used'], results['coupon2Used'], results['coupon3Used'], results['basketValue'])"
   ]
  }
 ],
 "metadata": {
  "kernelspec": {
   "display_name": "Python 3",
   "language": "python",
   "name": "python3"
  },
  "language_info": {
   "codemirror_mode": {
    "name": "ipython",
    "version": 3
   },
   "file_extension": ".py",
   "mimetype": "text/x-python",
   "name": "python",
   "nbconvert_exporter": "python",
   "pygments_lexer": "ipython3",
   "version": "3.6.3"
  }
 },
 "nbformat": 4,
 "nbformat_minor": 2
}
