{
 "cells": [
  {
   "cell_type": "markdown",
   "metadata": {},
   "source": [
    "# Tratamento dos Dados Brutos"
   ]
  },
  {
   "cell_type": "markdown",
   "metadata": {},
   "source": [
    "### Bibliotecas Necessárias"
   ]
  },
  {
   "cell_type": "code",
   "execution_count": 1,
   "metadata": {},
   "outputs": [],
   "source": [
    "import pandas as pd\n",
    "import numpy as np\n",
    "from sklearn.neighbors import KNeighborsClassifier\n",
    "from sklearn.model_selection import cross_val_score"
   ]
  },
  {
   "cell_type": "markdown",
   "metadata": {},
   "source": [
    "### Importar os dados\n",
    "\n",
    "Depois de importar os dados, é necessário remover as colunas que não serão utilizadas, ou seja, as colunas de identificadores.\n",
    "\n",
    "Em seguida transformamos as strings de data para valores inteiros."
   ]
  },
  {
   "cell_type": "code",
   "execution_count": 2,
   "metadata": {},
   "outputs": [],
   "source": [
    "data = pd.read_csv('data/DMC_2015_orders_train.txt',sep=\"|\")\n",
    "del data['userID']\n",
    "del data['orderID']\n",
    "del data['couponID1']\n",
    "del data['couponID2']\n",
    "del data['couponID3']\n",
    "data['orderTime'] = pd.DatetimeIndex(data['orderTime']).astype('int')\n",
    "data['couponsReceived'] = pd.DatetimeIndex(data['couponsReceived']).astype('int')"
   ]
  },
  {
   "cell_type": "markdown",
   "metadata": {},
   "source": [
    "### Criação dos dados para cada classificador\n",
    "\n",
    "Cada classificador tera seu próprio conjunto de dados e cada um receberá um tratamento para eliminar as informações dos demais."
   ]
  },
  {
   "cell_type": "code",
   "execution_count": 3,
   "metadata": {},
   "outputs": [],
   "source": [
    "data_coupon1 = data.copy()\n",
    "data_coupon2 = data.copy()\n",
    "data_coupon3 = data.copy()"
   ]
  },
  {
   "cell_type": "code",
   "execution_count": 4,
   "metadata": {},
   "outputs": [],
   "source": [
    "data_coupon1 = data_coupon1.loc[:,[(x[-1] != '2' and x[-1] != '3') for x in data_coupon1.columns]].iloc[:,:-3]\n",
    "\n",
    "data_coupon2 = data_coupon2.loc[:,[(x[-1] != '1' and x[-1] != '3') for x in data_coupon2.columns]].iloc[:,:-2]\n",
    "del data_coupon2['coupon1Used']\n",
    "\n",
    "data_coupon3 = data_coupon3.loc[:,[(x[-1] != '1' and x[-1] != '2') for x in data_coupon3.columns]].iloc[:,:-1]\n",
    "del data_coupon3['coupon1Used']\n",
    "del data_coupon3['coupon2Used']"
   ]
  },
  {
   "cell_type": "markdown",
   "metadata": {},
   "source": [
    "### Substituir valores categóricos\n",
    "\n",
    "para cada valor diferente incluir uma nova coluna com valores \\[1, 0\\] indicando presença ou ausência"
   ]
  },
  {
   "cell_type": "code",
   "execution_count": 5,
   "metadata": {},
   "outputs": [],
   "source": [
    "data_coupon1 = pd.get_dummies(data_coupon1, columns=[\"brand1\", \"productGroup1\"])\n",
    "data_coupon2 = pd.get_dummies(data_coupon2, columns=[\"brand2\", \"productGroup2\"])\n",
    "data_coupon3 = pd.get_dummies(data_coupon3, columns=[\"brand3\", \"productGroup3\"])"
   ]
  },
  {
   "cell_type": "code",
   "execution_count": 7,
   "metadata": {},
   "outputs": [],
   "source": [
    "# vetor = [d.split(',') for d in data_cupom1['categoryIDs1']]\n",
    "# tam = [len(d) for d in vetor]\n",
    "# print(max(tam))"
   ]
  },
  {
   "cell_type": "code",
   "execution_count": 10,
   "metadata": {},
   "outputs": [],
   "source": [
    "del data_coupon1['categoryIDs1']\n",
    "del data_coupon2['categoryIDs2']\n",
    "del data_coupon3['categoryIDs3']"
   ]
  },
  {
   "cell_type": "code",
   "execution_count": 11,
   "metadata": {},
   "outputs": [],
   "source": [
    "data_coupon1.fillna(data_coupon1.mean())\n",
    "data_coupon2.fillna(data_coupon2.mean())\n",
    "data_coupon3.fillna(data_coupon3.mean())\n",
    "\n",
    "def normalize(df):\n",
    "    return (df - df.min())/(df.max() - df.min())\n",
    "\n",
    "data_coupon1 = normalize(data_coupon1)\n",
    "data_coupon2 = normalize(data_coupon2)\n",
    "data_coupon3 = normalize(data_coupon3)"
   ]
  },
  {
   "cell_type": "code",
   "execution_count": 15,
   "metadata": {},
   "outputs": [],
   "source": [
    "def makeAccsKnn(X, y, test_values):\n",
    "    accs = []\n",
    "    best_k = 1\n",
    "    maxi = 0.\n",
    "    for k in test_values:\n",
    "        knn = KNeighborsClassifier(n_neighbors=k, n_jobs=-1)\n",
    "        scores = cross_val_score(knn, X, y, cv=10)\n",
    "        acc = np.mean(scores)\n",
    "        if(acc > maxi):\n",
    "            maxi = acc\n",
    "            best_k = k\n",
    "        accs.append(acc)\n",
    "    return accs, maxi, best_k"
   ]
  },
  {
   "cell_type": "code",
   "execution_count": 16,
   "metadata": {},
   "outputs": [],
   "source": [
    "def plotAcc(X, y, test_values):\n",
    "    accs, maxi, best_k = makeAccsKnn(X, y, test_values)\n",
    "    plt.plot(test_values, accs)\n",
    "    plt.xlabel('K')\n",
    "    plt.ylabel('Acurácia')\n",
    "    plt.title('Acurácias por valores de K')\n",
    "    plt.show()\n",
    "    print('Maior acurácia: '+ str(maxi))\n",
    "    print('Melhor k: '+ str(best_k))"
   ]
  },
  {
   "cell_type": "code",
   "execution_count": null,
   "metadata": {},
   "outputs": [],
   "source": [
    "X = data_coupon1.copy()\n",
    "del X['coupon1Used']\n",
    "y = data_coupon1['coupon1Used']\n",
    "plotAcc(X, y, list(range(1, 203, 2)))"
   ]
  },
  {
   "cell_type": "code",
   "execution_count": 12,
   "metadata": {},
   "outputs": [
    {
     "data": {
      "text/plain": [
       "0.76160872348523223"
      ]
     },
     "execution_count": 12,
     "metadata": {},
     "output_type": "execute_result"
    }
   ],
   "source": [
    "X = data_coupon1.copy()\n",
    "del X['coupon1Used']\n",
    "y = data_coupon1['coupon1Used']\n",
    "\n",
    "scores = cross_val_score(knn, X, y, cv=10)\n",
    "np.mean(scores)"
   ]
  },
  {
   "cell_type": "code",
   "execution_count": 13,
   "metadata": {},
   "outputs": [
    {
     "data": {
      "text/plain": [
       "0.8134810651444434"
      ]
     },
     "execution_count": 13,
     "metadata": {},
     "output_type": "execute_result"
    }
   ],
   "source": [
    "X = data_coupon2.copy()\n",
    "del X['coupon2Used']\n",
    "y = data_coupon2['coupon2Used']\n",
    "\n",
    "scores = cross_val_score(knn, X, y, cv=10)\n",
    "np.mean(scores)"
   ]
  },
  {
   "cell_type": "code",
   "execution_count": 14,
   "metadata": {},
   "outputs": [
    {
     "data": {
      "text/plain": [
       "0.83347143925711065"
      ]
     },
     "execution_count": 14,
     "metadata": {},
     "output_type": "execute_result"
    }
   ],
   "source": [
    "X = data_coupon3.copy()\n",
    "del X['coupon3Used']\n",
    "y = data_coupon3['coupon3Used']\n",
    "\n",
    "scores = cross_val_score(knn, X, y, cv=10)\n",
    "np.mean(scores)"
   ]
  },
  {
   "cell_type": "code",
   "execution_count": null,
   "metadata": {},
   "outputs": [],
   "source": []
  }
 ],
 "metadata": {
  "kernelspec": {
   "display_name": "Python 3",
   "language": "python",
   "name": "python3"
  },
  "language_info": {
   "codemirror_mode": {
    "name": "ipython",
    "version": 3
   },
   "file_extension": ".py",
   "mimetype": "text/x-python",
   "name": "python",
   "nbconvert_exporter": "python",
   "pygments_lexer": "ipython3",
   "version": "3.6.3"
  }
 },
 "nbformat": 4,
 "nbformat_minor": 2
}
