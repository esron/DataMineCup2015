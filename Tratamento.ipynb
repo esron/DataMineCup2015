{
 "cells": [
  {
   "cell_type": "markdown",
   "metadata": {},
   "source": [
    "# Tratamento dos Dados Brutos"
   ]
  },
  {
   "cell_type": "markdown",
   "metadata": {},
   "source": [
    "### Bibliotecas Necessárias"
   ]
  },
  {
   "cell_type": "code",
   "execution_count": 1,
   "metadata": {},
   "outputs": [],
   "source": [
    "import pandas as pd\n",
    "import numpy as np\n",
    "import matplotlib.pyplot as plt\n",
    "from sklearn.neighbors import KNeighborsClassifier\n",
    "from sklearn.model_selection import cross_val_score"
   ]
  },
  {
   "cell_type": "markdown",
   "metadata": {},
   "source": [
    "### Importar os dados\n",
    "\n",
    "Depois de importar os dados, é necessário remover as colunas que não serão utilizadas, ou seja, as colunas de identificadores.\n",
    "\n",
    "Em seguida transformamos as strings de data para valores inteiros."
   ]
  },
  {
   "cell_type": "code",
   "execution_count": 2,
   "metadata": {},
   "outputs": [],
   "source": [
    "data = pd.read_csv('data/DMC_2015_orders_train.txt',sep=\"|\")\n",
    "del data['userID']\n",
    "del data['orderID']\n",
    "del data['couponID1']\n",
    "del data['couponID2']\n",
    "del data['couponID3']\n",
    "data['orderTime'] = pd.DatetimeIndex(data['orderTime']).astype('int')\n",
    "data['couponsReceived'] = pd.DatetimeIndex(data['couponsReceived']).astype('int')"
   ]
  },
  {
   "cell_type": "markdown",
   "metadata": {},
   "source": [
    "### Criação dos dados para cada classificador\n",
    "\n",
    "Cada classificador tera seu próprio conjunto de dados e cada um receberá um tratamento para eliminar as informações dos demais."
   ]
  },
  {
   "cell_type": "code",
   "execution_count": 3,
   "metadata": {},
   "outputs": [],
   "source": [
    "data_coupon1 = data.copy()\n",
    "data_coupon2 = data.copy()\n",
    "data_coupon3 = data.copy()"
   ]
  },
  {
   "cell_type": "code",
   "execution_count": 4,
   "metadata": {},
   "outputs": [],
   "source": [
    "data_coupon1 = data_coupon1.loc[:,[(x[-1] != '2' and x[-1] != '3') for x in data_coupon1.columns]].iloc[:,:-3]\n",
    "\n",
    "data_coupon2 = data_coupon2.loc[:,[(x[-1] != '1' and x[-1] != '3') for x in data_coupon2.columns]].iloc[:,:-2]\n",
    "del data_coupon2['coupon1Used']\n",
    "\n",
    "data_coupon3 = data_coupon3.loc[:,[(x[-1] != '1' and x[-1] != '2') for x in data_coupon3.columns]].iloc[:,:-1]\n",
    "del data_coupon3['coupon1Used']\n",
    "del data_coupon3['coupon2Used']"
   ]
  },
  {
   "cell_type": "markdown",
   "metadata": {},
   "source": [
    "### Substituir valores categóricos\n",
    "\n",
    "para cada valor diferente incluir uma nova coluna com valores \\[1, 0\\] indicando presença ou ausência"
   ]
  },
  {
   "cell_type": "code",
   "execution_count": 5,
   "metadata": {},
   "outputs": [],
   "source": [
    "data_coupon1 = pd.get_dummies(data_coupon1, columns=[\"brand1\", \"productGroup1\"])\n",
    "data_coupon2 = pd.get_dummies(data_coupon2, columns=[\"brand2\", \"productGroup2\"])\n",
    "data_coupon3 = pd.get_dummies(data_coupon3, columns=[\"brand3\", \"productGroup3\"])"
   ]
  },
  {
   "cell_type": "code",
   "execution_count": 6,
   "metadata": {},
   "outputs": [],
   "source": [
    "vetor1 = [d.split(',') for d in data_coupon1['categoryIDs1']]\n",
    "categoryIDs1 = set(x for l in vetor1 for x in l)\n",
    "vetor2 = [d.split(',') for d in data_coupon2['categoryIDs2']]\n",
    "categoryIDs2 = set(x for l in vetor2 for x in l)\n",
    "vetor3 = [d.split(',') for d in data_coupon3['categoryIDs3']]\n",
    "categoryIDs3 = set(x for l in vetor3 for x in l)"
   ]
  },
  {
   "cell_type": "code",
   "execution_count": 7,
   "metadata": {},
   "outputs": [],
   "source": [
    "d1 = dict()\n",
    "for c in categoryIDs1:\n",
    "    d1['categoryIDs1_'+c] = []\n",
    "for i in vetor1:\n",
    "    for c in categoryIDs1:\n",
    "        if c in i:\n",
    "            d1['categoryIDs1_'+c].append(1.0)\n",
    "        else:\n",
    "            d1['categoryIDs1_'+c].append(0)\n",
    "            \n",
    "d2 = dict()\n",
    "for c in categoryIDs2:\n",
    "    d2['categoryIDs2_'+c] = []\n",
    "for i in vetor2:\n",
    "    for c in categoryIDs2:\n",
    "        if c in i:\n",
    "            d2['categoryIDs2_'+c].append(1.0)\n",
    "        else:\n",
    "            d2['categoryIDs2_'+c].append(0)     \n",
    "            \n",
    "d3 = dict()\n",
    "for c in categoryIDs3:\n",
    "    d3['categoryIDs3_'+c] = []\n",
    "for i in vetor3:\n",
    "    for c in categoryIDs3:\n",
    "        if c in i:\n",
    "            d3['categoryIDs3_'+c].append(1.0)\n",
    "        else:\n",
    "            d3['categoryIDs3_'+c].append(0)"
   ]
  },
  {
   "cell_type": "code",
   "execution_count": 8,
   "metadata": {},
   "outputs": [],
   "source": [
    "data_coupon1 = data_coupon1.join(pd.DataFrame(d1))\n",
    "del data_coupon1['categoryIDs1']\n",
    "data_coupon2 = data_coupon2.join(pd.DataFrame(d2))\n",
    "del data_coupon2['categoryIDs2']\n",
    "data_coupon3 = data_coupon3.join(pd.DataFrame(d3))\n",
    "del data_coupon3['categoryIDs3']\n"
   ]
  },
  {
   "cell_type": "markdown",
   "metadata": {},
   "source": [
    "### Normalizar os dados"
   ]
  },
  {
   "cell_type": "code",
   "execution_count": 9,
   "metadata": {},
   "outputs": [],
   "source": [
    "data_coupon1.fillna(data_coupon1.mean())\n",
    "data_coupon2.fillna(data_coupon2.mean())\n",
    "data_coupon3.fillna(data_coupon3.mean())\n",
    "\n",
    "def normalize(df):\n",
    "    return (df - df.min())/(df.max() - df.min())\n",
    "\n",
    "data_coupon1 = normalize(data_coupon1)\n",
    "data_coupon2 = normalize(data_coupon2)\n",
    "data_coupon3 = normalize(data_coupon3)"
   ]
  },
  {
   "cell_type": "markdown",
   "metadata": {},
   "source": [
    "### Salvar os dados"
   ]
  },
  {
   "cell_type": "code",
   "execution_count": 10,
   "metadata": {},
   "outputs": [],
   "source": [
    "data_coupon1.to_csv('data/data_coupon1.csv', sep='|')\n",
    "data_coupon2.to_csv('data/data_coupon2.csv', sep='|')\n",
    "data_coupon3.to_csv('data/data_coupon3.csv', sep='|')"
   ]
  }
 ],
 "metadata": {
  "kernelspec": {
   "display_name": "Python 3",
   "language": "python",
   "name": "python3"
  },
  "language_info": {
   "codemirror_mode": {
    "name": "ipython",
    "version": 3
   },
   "file_extension": ".py",
   "mimetype": "text/x-python",
   "name": "python",
   "nbconvert_exporter": "python",
   "pygments_lexer": "ipython3",
   "version": "3.6.3"
  }
 },
 "nbformat": 4,
 "nbformat_minor": 2
}
