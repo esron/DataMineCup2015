{
 "cells": [
  {
   "cell_type": "code",
   "execution_count": 11,
   "metadata": {},
   "outputs": [],
   "source": [
    "import pandas as pd\n",
    "import seaborn as sb\n",
    "from sklearn.neighbors import KNeighborsClassifier"
   ]
  },
  {
   "cell_type": "code",
   "execution_count": 2,
   "metadata": {},
   "outputs": [],
   "source": [
    "data = pd.read_csv('data/DMC_2015_orders_train.txt',sep=\"|\")\n",
    "del data['userID']\n",
    "del data['orderID']\n",
    "del data['couponID1']\n",
    "del data['couponID2']\n",
    "del data['couponID3']"
   ]
  },
  {
   "cell_type": "code",
   "execution_count": 3,
   "metadata": {},
   "outputs": [
    {
     "data": {
      "text/plain": [
       "Index(['orderTime', 'couponsReceived', 'price1', 'basePrice1', 'reward1',\n",
       "       'premiumProduct1', 'brand1', 'productGroup1', 'categoryIDs1', 'price2',\n",
       "       'basePrice2', 'reward2', 'premiumProduct2', 'brand2', 'productGroup2',\n",
       "       'categoryIDs2', 'price3', 'basePrice3', 'reward3', 'premiumProduct3',\n",
       "       'brand3', 'productGroup3', 'categoryIDs3', 'coupon1Used', 'coupon2Used',\n",
       "       'coupon3Used', 'basketValue'],\n",
       "      dtype='object')"
      ]
     },
     "execution_count": 3,
     "metadata": {},
     "output_type": "execute_result"
    }
   ],
   "source": [
    "data.columns"
   ]
  },
  {
   "cell_type": "code",
   "execution_count": 4,
   "metadata": {},
   "outputs": [],
   "source": [
    "data_cupom1 = data.copy()"
   ]
  },
  {
   "cell_type": "code",
   "execution_count": 5,
   "metadata": {},
   "outputs": [],
   "source": [
    "data_cupom1 = data_cupom1.loc[:,[(x[-1] != '2' and x[-1] != '3') for x in data_cupom1.columns]].iloc[:,:-3]\n",
    "# data_cupom1"
   ]
  },
  {
   "cell_type": "code",
   "execution_count": 7,
   "metadata": {},
   "outputs": [],
   "source": [
    "X = data_cupom1.iloc[:,:-1]\n",
    "y = data_cupom1.iloc[:,-1]"
   ]
  },
  {
   "cell_type": "code",
   "execution_count": 12,
   "metadata": {},
   "outputs": [],
   "source": [
    "knn = KNeighborsClassifier(n_neighbors=5,n_jobs=-1)"
   ]
  },
  {
   "cell_type": "code",
   "execution_count": 14,
   "metadata": {},
   "outputs": [],
   "source": [
    "# Deu erro, usar OneHotEncoder\n",
    "# from sklearn.model_selection import cross_val_score\n",
    "# print(cross_val_score(knn, X, y))\n"
   ]
  }
 ],
 "metadata": {
  "kernelspec": {
   "display_name": "Python 3",
   "language": "python",
   "name": "python3"
  },
  "language_info": {
   "codemirror_mode": {
    "name": "ipython",
    "version": 3
   },
   "file_extension": ".py",
   "mimetype": "text/x-python",
   "name": "python",
   "nbconvert_exporter": "python",
   "pygments_lexer": "ipython3",
   "version": "3.6.4"
  }
 },
 "nbformat": 4,
 "nbformat_minor": 2
}
